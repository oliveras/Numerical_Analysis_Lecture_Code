{
 "cells": [
  {
   "cell_type": "code",
   "execution_count": 3,
   "metadata": {},
   "outputs": [],
   "source": [
    "import numpy as np\n",
    "import time"
   ]
  },
  {
   "cell_type": "code",
   "execution_count": null,
   "metadata": {},
   "outputs": [],
   "source": []
  },
  {
   "cell_type": "code",
   "execution_count": 66,
   "metadata": {},
   "outputs": [],
   "source": [
    "def LU(A):\n",
    "    m = A.shape[1]\n",
    "    U = A.copy()\n",
    "    L = np.eye(m)\n",
    "    for k in range(1,m):\n",
    "        for j in range(k+1,m+1):\n",
    "            L[j-1,k-1] = U[j-1,k-1]/U[k-1,k-1]\n",
    "            U[j-1,(k-1):] = U[j-1,(k-1):] - L[j-1,k-1]*U[k-1,(k-1):]\n",
    "    return L, U"
   ]
  },
  {
   "cell_type": "code",
   "execution_count": 151,
   "metadata": {},
   "outputs": [],
   "source": [
    "def LU_pivot(A):\n",
    "    m,n = np.shape(A)\n",
    "    U = np.copy(A)\n",
    "    L = np.eye(m)\n",
    "    P = np.arange(m)\n",
    "\n",
    "    for k in range(0,n-1):\n",
    "        maxVal = np.abs(U[k,k])\n",
    "        maxIndex = k;\n",
    "        for i in range(k+1,m-1):\n",
    "            temp = np.abs(U[i,k])\n",
    "            if temp > maxVal:\n",
    "                maxVal = temp;\n",
    "                maxIndex = i;\n",
    "            if maxIndex!=k:\n",
    "                P[maxIndex],P[k] = P[k],P[maxIndex]\n",
    "                U[maxIndex,k:],U[k,k:]=np.copy(U[k,k:]),np.copy(U[maxIndex,k:])\n",
    "                L[maxIndex,:k],L[k,:k] = np.copy(L[k,:k]),np.copy(L[maxIndex,:k])\n",
    "\n",
    "        for i in range(j+1,m-1):\n",
    "            L[i,j] = U[i,j]/U[j,j]\n",
    "            U[i,(j):] = U[i,j:] - L[i,j]*U[j,j:]\n",
    "            \n",
    "        # Replace the above \"for\" loop with the outer product representation just in case.\n",
    "        # L[(k+1):,k] = U[(k+1):,k]/U[k,k]\n",
    "        # U[(k+1):,k:] = U[(k+1):,k:] - np.outer(L[(k+1):,k],U[k,k:])\n",
    "    \n",
    "    return L, U, P"
   ]
  },
  {
   "cell_type": "code",
   "execution_count": 152,
   "metadata": {},
   "outputs": [
    {
     "name": "stdout",
     "output_type": "stream",
     "text": [
      "[[0. 0. 0.]\n",
      " [0. 0. 0.]\n",
      " [0. 0. 0.]]\n"
     ]
    }
   ],
   "source": [
    "A = np.array([[1,3,3],[1,4,3],[4,7,2]])\n",
    "L,U,P = LU_pivot(A)\n",
    "AA = L @ U\n",
    "print(AA[P]-A)\n"
   ]
  }
 ],
 "metadata": {
  "kernelspec": {
   "display_name": "Python 3",
   "language": "python",
   "name": "python3"
  },
  "language_info": {
   "codemirror_mode": {
    "name": "ipython",
    "version": 3
   },
   "file_extension": ".py",
   "mimetype": "text/x-python",
   "name": "python",
   "nbconvert_exporter": "python",
   "pygments_lexer": "ipython3",
   "version": "3.6.4"
  }
 },
 "nbformat": 4,
 "nbformat_minor": 2
}
