{
 "cells": [
  {
   "cell_type": "code",
   "execution_count": 24,
   "metadata": {},
   "outputs": [],
   "source": [
    "import numpy as np\n",
    "import time\n",
    "from scipy import linalg as la"
   ]
  },
  {
   "cell_type": "code",
   "execution_count": null,
   "metadata": {},
   "outputs": [],
   "source": []
  },
  {
   "cell_type": "code",
   "execution_count": 25,
   "metadata": {},
   "outputs": [],
   "source": [
    "def LU(A):\n",
    "    m = A.shape[1]\n",
    "    U = A.copy()\n",
    "    L = np.eye(m)\n",
    "    for k in range(1,m):\n",
    "        for j in range(k+1,m+1):\n",
    "            L[j-1,k-1] = U[j-1,k-1]/U[k-1,k-1]\n",
    "            U[j-1,(k-1):] = U[j-1,(k-1):] - L[j-1,k-1]*U[k-1,(k-1):]\n",
    "    return L, U"
   ]
  },
  {
   "cell_type": "code",
   "execution_count": 226,
   "metadata": {},
   "outputs": [],
   "source": [
    "def LU_pivot(A):\n",
    "    m = A.shape[1]\n",
    "    U = np.copy(A)\n",
    "    L = np.eye(m)\n",
    "    P = np.eye(m)\n",
    "\n",
    "    for k in range(1,m):\n",
    "        LTemp = np.copy(L)\n",
    "        UTemp = np.copy(U)\n",
    "        maxVal = np.abs(U[k-1,k-1])\n",
    "        maxIndex = k-1;\n",
    "        for i in range(k,m):\n",
    "            if np.abs(U[k-1,i]) > maxVal:\n",
    "                maxVal = np.abs(U[k-1,i])\n",
    "                maxIndex = i;\n",
    "        if maxIndex!=k-1:\n",
    "            P[maxIndex],P[k-1] = np.copy(P[k-1]) , np.copy(P[maxIndex])\n",
    "            U[k-1,(k-1):], U[maxIndex,(k-1):] = UTemp[maxIndex,(k-1):], UTemp[k-1,(k-1):]\n",
    "            L[k-1,:k-1], L[maxIndex,:(k-1)] = LTemp[maxIndex,:(k-1)],LTemp[k-1,:k-1]\n",
    "\n",
    "            print(maxIndex)\n",
    "   \n",
    "        # Replace the above \"for\" loop with the outer product representation just in case.\n",
    "        L[(k):,(k-1)] = U[(k):,k-1]/U[k-1,k-1]\n",
    "        U[(k):,(k-1):] = U[(k):,(k-1):] - np.outer(L[(k):,k-1],U[k-1,(k-1):])\n",
    "    \n",
    "    return L, U, P"
   ]
  },
  {
   "cell_type": "code",
   "execution_count": 227,
   "metadata": {},
   "outputs": [
    {
     "name": "stdout",
     "output_type": "stream",
     "text": [
      "[[2. 1. 1. 0.]\n",
      " [4. 3. 3. 1.]\n",
      " [8. 7. 9. 5.]\n",
      " [6. 7. 9. 8.]]\n",
      "[[2 1 1 0]\n",
      " [4 3 3 1]\n",
      " [8 7 9 5]\n",
      " [6 7 9 8]]\n"
     ]
    }
   ],
   "source": [
    "A = np.array([[2,1,1,0],[4,3,3,1],[8,7,9,5],[6,7,9,8]])\n",
    "L,U,P = LU_pivot(A)\n",
    "AA = L @ U\n",
    "print(P.T@AA)\n",
    "print(A)"
   ]
  },
  {
   "cell_type": "code",
   "execution_count": 217,
   "metadata": {},
   "outputs": [
    {
     "data": {
      "text/plain": [
       "array([[8.  , 7.  , 9.  , 5.  ],\n",
       "       [6.  , 6.25, 8.75, 7.75],\n",
       "       [2.  , 1.75, 1.25, 0.25],\n",
       "       [4.  , 3.5 , 3.5 , 1.5 ]])"
      ]
     },
     "execution_count": 217,
     "metadata": {},
     "output_type": "execute_result"
    }
   ],
   "source": [
    "AA"
   ]
  },
  {
   "cell_type": "code",
   "execution_count": 210,
   "metadata": {},
   "outputs": [
    {
     "data": {
      "text/plain": [
       "array([[8.  , 7.  , 9.  , 5.  ],\n",
       "       [6.  , 6.25, 8.75, 7.75],\n",
       "       [2.  , 1.75, 1.25, 0.25],\n",
       "       [4.  , 3.5 , 3.5 , 1.5 ]])"
      ]
     },
     "execution_count": 210,
     "metadata": {},
     "output_type": "execute_result"
    }
   ],
   "source": [
    "L@U"
   ]
  },
  {
   "cell_type": "code",
   "execution_count": 211,
   "metadata": {},
   "outputs": [
    {
     "data": {
      "text/plain": [
       "array([[ 8.00000000e+00,  7.00000000e+00,  9.00000000e+00,\n",
       "         5.00000000e+00],\n",
       "       [ 6.00000000e+00,  7.00000000e+00,  9.00000000e+00,\n",
       "         8.00000000e+00],\n",
       "       [ 4.00000000e+00,  3.00000000e+00,  3.00000000e+00,\n",
       "         1.00000000e+00],\n",
       "       [ 2.00000000e+00,  1.00000000e+00,  1.00000000e+00,\n",
       "        -2.22044605e-16]])"
      ]
     },
     "execution_count": 211,
     "metadata": {},
     "output_type": "execute_result"
    }
   ],
   "source": [
    "LL@UU"
   ]
  },
  {
   "cell_type": "code",
   "execution_count": 212,
   "metadata": {},
   "outputs": [
    {
     "name": "stdout",
     "output_type": "stream",
     "text": [
      "[[8.   7.   9.   5.  ]\n",
      " [6.   6.25 8.75 7.75]\n",
      " [2.   1.75 1.25 0.25]\n",
      " [4.   3.5  3.5  1.5 ]]\n"
     ]
    }
   ],
   "source": [
    "print(L@U)"
   ]
  },
  {
   "cell_type": "code",
   "execution_count": 213,
   "metadata": {},
   "outputs": [
    {
     "data": {
      "text/plain": [
       "array([[0., 0., 1., 0.],\n",
       "       [0., 0., 0., 1.],\n",
       "       [1., 0., 0., 0.],\n",
       "       [0., 1., 0., 0.]])"
      ]
     },
     "execution_count": 213,
     "metadata": {},
     "output_type": "execute_result"
    }
   ],
   "source": [
    "P"
   ]
  },
  {
   "cell_type": "code",
   "execution_count": 214,
   "metadata": {},
   "outputs": [
    {
     "name": "stdout",
     "output_type": "stream",
     "text": [
      "[[0. 0. 1. 0.]\n",
      " [0. 1. 0. 0.]\n",
      " [1. 0. 0. 0.]\n",
      " [0. 0. 0. 1.]]\n"
     ]
    }
   ],
   "source": [
    "P = np.eye(4,4)\n",
    "P[0],P[2]=np.copy(P[2]),np.copy(P[0])\n",
    "print(P)"
   ]
  },
  {
   "cell_type": "code",
   "execution_count": 197,
   "metadata": {},
   "outputs": [
    {
     "data": {
      "text/plain": [
       "array([[8., 7., 9., 5.],\n",
       "       [4., 3., 3., 1.],\n",
       "       [2., 1., 1., 0.],\n",
       "       [6., 7., 9., 8.]])"
      ]
     },
     "execution_count": 197,
     "metadata": {},
     "output_type": "execute_result"
    }
   ],
   "source": [
    "P@A"
   ]
  },
  {
   "cell_type": "code",
   "execution_count": 198,
   "metadata": {},
   "outputs": [
    {
     "data": {
      "text/plain": [
       "array([[0., 0., 1., 0.],\n",
       "       [0., 1., 0., 0.],\n",
       "       [1., 0., 0., 0.],\n",
       "       [0., 0., 0., 1.]])"
      ]
     },
     "execution_count": 198,
     "metadata": {},
     "output_type": "execute_result"
    }
   ],
   "source": [
    "P"
   ]
  },
  {
   "cell_type": "code",
   "execution_count": 199,
   "metadata": {},
   "outputs": [
    {
     "data": {
      "text/plain": [
       "array([[0., 0., 1., 0.],\n",
       "       [0., 1., 0., 0.],\n",
       "       [1., 0., 0., 0.],\n",
       "       [0., 0., 0., 1.]])"
      ]
     },
     "execution_count": 199,
     "metadata": {},
     "output_type": "execute_result"
    }
   ],
   "source": [
    "P"
   ]
  },
  {
   "cell_type": "code",
   "execution_count": 229,
   "metadata": {},
   "outputs": [],
   "source": [
    "x = np.linspace(-np.pi,np.pi,15)\n",
    "s = x.T"
   ]
  },
  {
   "cell_type": "code",
   "execution_count": 234,
   "metadata": {},
   "outputs": [],
   "source": [
    "x,s = np.meshgrid(x,s)"
   ]
  },
  {
   "cell_type": "code",
   "execution_count": 239,
   "metadata": {},
   "outputs": [
    {
     "data": {
      "text/plain": [
       "-6.283185307179586"
      ]
     },
     "execution_count": 239,
     "metadata": {},
     "output_type": "execute_result"
    }
   ],
   "source": [
    "np.min(x+s)"
   ]
  },
  {
   "cell_type": "code",
   "execution_count": null,
   "metadata": {},
   "outputs": [],
   "source": [
    "for j in range()"
   ]
  }
 ],
 "metadata": {
  "kernelspec": {
   "display_name": "Python 3",
   "language": "python",
   "name": "python3"
  },
  "language_info": {
   "codemirror_mode": {
    "name": "ipython",
    "version": 3
   },
   "file_extension": ".py",
   "mimetype": "text/x-python",
   "name": "python",
   "nbconvert_exporter": "python",
   "pygments_lexer": "ipython3",
   "version": "3.6.4"
  }
 },
 "nbformat": 4,
 "nbformat_minor": 2
}
