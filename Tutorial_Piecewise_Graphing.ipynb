{
 "cells": [
  {
   "cell_type": "markdown",
   "metadata": {},
   "source": [
    "# Tutorial: Plotting Piecewise Functions"
   ]
  },
  {
   "cell_type": "code",
   "execution_count": 1,
   "metadata": {},
   "outputs": [],
   "source": [
    "import numpy as np\n",
    "from matplotlib import pyplot as plt\n",
    "%matplotlib inline"
   ]
  },
  {
   "cell_type": "markdown",
   "metadata": {},
   "source": [
    "Imagine that we would like to plot the piecewise function $S(x)$ over the interval $\\left[1,3\\right]$ where $S(x)$ is given by \n",
    "$$ S(x) = \\begin{cases}2 + \\frac{3}{4}(x - 1) + \\frac{1}{4}(x - 1)^3, \\quad & x\\in\\left[1,2\\right)\\\\\n",
    "3 + \\frac{3}{2}(x-2) + \\frac{3}{4}(x - 2)^2 - \\frac{1}{4}(x-2)^3& x\\in\\left(2,3\\right]\\end{cases}$$\n",
    "\n",
    "In python, we can simply define $x$ over the full interval $\\left[1,3\\right]$, and use the interval as a boolean to determine the interval where we add the various components.  \n",
    "\n",
    "For example, imagine that $x$ was represented by the array \n",
    "``` \n",
    "    x = np.array([1, 1.5, 2, 2.5, 3])\n",
    "```\n",
    "\n",
    "If we calculated, `(x>1.5)`, Python would return \n",
    "```\n",
    "    array([False,  False,  True,  True,  True])\n",
    "```\n",
    "as demonstrated in the cell below.  Play around with the inequality.  "
   ]
  },
  {
   "cell_type": "code",
   "execution_count": 8,
   "metadata": {},
   "outputs": [
    {
     "data": {
      "text/plain": [
       "array([0. , 0. , 2. , 2.5, 3. ])"
      ]
     },
     "execution_count": 8,
     "metadata": {},
     "output_type": "execute_result"
    }
   ],
   "source": [
    "x = np.array([1, 1.5, 2, 2.5, 3])\n",
    "(x>1.5)*x"
   ]
  },
  {
   "cell_type": "markdown",
   "metadata": {},
   "source": [
    "In numpy, we can interpret `True` as `1` and `False` as `0`.  Notice what happens if we multiply `x` times `x>1.5`.  We would find \n",
    "```\n",
    "    >>> x*(x>1.5)\n",
    "    array([0. , 0. , 2. , 2.5, 3. ])\n",
    "```\n",
    "\n",
    "Notice, that the output is $0$ when the inequality if false.  \n",
    "\n",
    "Thus, imagine that we wanted to plot the first part of the function $2 + \\frac{3}{4}(x - 1) + \\frac{1}{4}(x - 1)^3$ for $x\\geq 1$ and $x<2$ we could simply graph all of the pieces, but effectively *mask* each component by multiplying by the appropriate statement.  The below shows this."
   ]
  },
  {
   "cell_type": "code",
   "execution_count": 9,
   "metadata": {},
   "outputs": [
    {
     "data": {
      "image/png": "[encoded data removed]",
      "text/plain": [
       "<matplotlib.figure.Figure at 0x192ad583400>"
      ]
     },
     "metadata": {},
     "output_type": "display_data"
    }
   ],
   "source": [
    "x = np.linspace(1,3,100)\n",
    "S = (2 + 3/4*(x - 1) + 1/4*(x - 1)**3)*(x<2)*(x>=1)\n",
    "S += (3 + 3/2*(x - 2) + 3/4*(x - 2)**2 - 1/4*(x-2)**3)*(x>=2)*(x<=3)\n",
    "plt.plot(x,S)\n",
    "\n",
    "\n",
    "xV = np.array([1,2, 3])\n",
    "yV = np.array([2,3,5])\n",
    "plt.plot(xV,yV,'o')\n",
    "\n",
    "plt.show()"
   ]
  },
  {
   "cell_type": "code",
   "execution_count": 18,
   "metadata": {},
   "outputs": [],
   "source": [
    "f = [1]"
   ]
  },
  {
   "cell_type": "code",
   "execution_count": 19,
   "metadata": {},
   "outputs": [
    {
     "name": "stdout",
     "output_type": "stream",
     "text": [
      "[1, 2]\n"
     ]
    }
   ],
   "source": [
    "f.append(2)\n",
    "print(f)"
   ]
  },
  {
   "cell_type": "code",
   "execution_count": null,
   "metadata": {},
   "outputs": [],
   "source": []
  }
 ],
 "metadata": {
  "kernelspec": {
   "display_name": "Python 3",
   "language": "python",
   "name": "python3"
  },
  "language_info": {
   "codemirror_mode": {
    "name": "ipython",
    "version": 3
   },
   "file_extension": ".py",
   "mimetype": "text/x-python",
   "name": "python",
   "nbconvert_exporter": "python",
   "pygments_lexer": "ipython3",
   "version": "3.6.4"
  }
 },
 "nbformat": 4,
 "nbformat_minor": 2
}
