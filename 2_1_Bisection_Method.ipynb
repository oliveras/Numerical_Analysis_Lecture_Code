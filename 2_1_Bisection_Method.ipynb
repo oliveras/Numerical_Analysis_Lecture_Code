{
 "cells": [
  {
   "cell_type": "markdown",
   "metadata": {},
   "source": [
    "# Section 2.1 - The Bisection Method"
   ]
  },
  {
   "cell_type": "markdown",
   "metadata": {},
   "source": [
    "We will begin by importing the appropriate python libraries."
   ]
  },
  {
   "cell_type": "code",
   "execution_count": 4,
   "metadata": {},
   "outputs": [],
   "source": [
    "import numpy as np\n",
    "import matplotlib.pyplot as plt\n",
    "%matplotlib inline"
   ]
  },
  {
   "cell_type": "markdown",
   "metadata": {},
   "source": [
    "## Coding the Bisection Method\n",
    "\n",
    "Write out the pseudo code\n",
    "\n",
    "Consider various stopping criteria:\n",
    "1. $\\vert p_n - p_{n-1}\\vert < \\epsilon$  This is simply implemented via the code `np.abs(p - p0)`\n",
    "2. $\\vert p_n - p_{n-1}\\vert/\\vert p_{n-1}\\vert < \\epsilon$, $p_{n-1} \\neq 0$ Should $p_{n-1} = 0$, \n",
    "3. $\\vert p_n - p_{n-1}\\vert < \\epsilon$\n",
    "   "
   ]
  },
  {
   "cell_type": "code",
   "execution_count": 5,
   "metadata": {},
   "outputs": [],
   "source": [
    "def bisection_method(a,b,f,tol,N):\n",
    "    \n",
    "    FA,FB = f(a),f(b)           # Determine f(a) and f(b)\n",
    "    \n",
    "    if  b<a:\n",
    "        print(\"ERROR: Please ensure that a<b for your initial interval [a,b].\")\n",
    "    elif(FA*FB>0):              # determine if there is a root within the interval [a,b]\n",
    "        print(\"ERROR: Cannot ensure existence of root within the interval.  Please change the initial interval [a,b].\")\n",
    "    else: \n",
    "        p = (a + b)/2                            # define the mid-point\n",
    "        pOut = [p]\n",
    "        FP = f(p)                                # Evaluate the function at the mid-point\n",
    "        p0 = p;\n",
    "        \n",
    "            \n",
    "        error = 1                                # set the initial error to 1.\n",
    "        n = 0                                    # set the initial iteration count to be 0\n",
    "\n",
    "        print(\" n           a             b                p                 error           |f(p)|           \")\n",
    "        print(\"-----------------------------------------------------------------------------------------------\")\n",
    "        print(\"% 3.d    % 10.5f    % 10.5f    % 10.16f    % 10.5e    % 10.5e\"    % (n, a, b,p,error,np.abs(FP)))\n",
    "\n",
    "        \n",
    "        while (error>tol)&(n<=N-1):\n",
    "            n=n+1\n",
    "            \n",
    "            if FA*FP<0:\n",
    "                b = p\n",
    "                FB = FP\n",
    "            else:\n",
    "                a = p\n",
    "                FA = FP\n",
    "            p = (a + b)/2\n",
    "            pOut.append(p)\n",
    "            FP = f(p)\n",
    "            error = np.abs(p - p0)/(np.abs(p0) + 1 - (np.abs(p0)>0))\n",
    "            p0 = p;\n",
    "            print(\"% 3.d    % 10.5f    % 10.5f    % 10.16f    % 10.5e    % 10.5e\" % (n, a, b,p,error,np.abs(FP)))\n",
    "            \n",
    "        if error>tol: # Check to see if you \n",
    "            print(\"\\n ERROR: Method failed to converge.  Please increase the maximum number of iterations or decrease the tolerance.\")\n",
    "        else:\n",
    "            print(\"\\n Success! The method converged in \",n,\" iterations to the root p = \",p)\n",
    "            return pOut\n",
    "            \n",
    "        "
   ]
  },
  {
   "cell_type": "markdown",
   "metadata": {},
   "source": [
    "## Example 1: Testing the Bisection Method on $3^{-x} - x = 0$\n",
    "We now consider the testing the bisection method to solve the equation \n",
    "\\begin{align}\n",
    "    &3^{-x} - x = 0\\\\\n",
    "    &f(x)= 0\n",
    "    \\end{align}\n",
    "First, we will define the function $f(x)$ via the command \n",
    "```\n",
    "    f = lambda x: 3**(-x)-x\n",
    "```"
   ]
  },
  {
   "cell_type": "code",
   "execution_count": 6,
   "metadata": {},
   "outputs": [],
   "source": [
    "f = lambda x: 3**(-x)-x"
   ]
  },
  {
   "cell_type": "markdown",
   "metadata": {},
   "source": [
    "The code below generates a plot of the function $f(x)$ where it is possible to see the root occuring withing the interval $\\left[0,1\\right]$"
   ]
  },
  {
   "cell_type": "code",
   "execution_count": 7,
   "metadata": {},
   "outputs": [
    {
     "data": {
      "image/png": "[encoded data removed]",
      "text/plain": [
       "<matplotlib.figure.Figure at 0x259aa0f6cc0>"
      ]
     },
     "metadata": {},
     "output_type": "display_data"
    }
   ],
   "source": [
    "xval = np.linspace(-3,3,100)    # create an array of x-values on [-3,3] using 100 equally spaced points\n",
    "y = f(xval)                     # create an array of y-values where y = f(x)\n",
    "plt.plot(xval,y)                # plot the graph y = f(x)\n",
    "plt.plot(xval,0*xval)           # plot the graph y = 0 to show clear intersections\n",
    "\n",
    "# Label the graph, and show grids\n",
    "plt.xlabel(\"$x$\")\n",
    "plt.ylabel(\"$f(x)$\")\n",
    "plt.title(\"Graph of $f(x) = 3^{-x} - x$\",fontsize=18)\n",
    "plt.grid()"
   ]
  },
  {
   "cell_type": "code",
   "execution_count": 22,
   "metadata": {},
   "outputs": [
    {
     "name": "stdout",
     "output_type": "stream",
     "text": [
      " n           a             b                p                 error           |f(p)|           \n",
      "-----------------------------------------------------------------------------------------------\n",
      "  0      -1.00000       1.00000     0.0000000000000000     1.00000e+00     1.00000e+00\n",
      "  1       0.00000       1.00000     0.5000000000000000     5.00000e-01     7.73503e-02\n",
      "  2       0.50000       1.00000     0.7500000000000000     5.00000e-01     3.11309e-01\n",
      "  3       0.50000       0.75000     0.6250000000000000     1.66667e-01     1.21732e-01\n",
      "  4       0.50000       0.62500     0.5625000000000000     1.00000e-01     2.34621e-02\n",
      "  5       0.50000       0.56250     0.5312500000000000     5.55556e-02     2.66153e-02\n",
      "  6       0.53125       0.56250     0.5468750000000000     2.94118e-02     1.49579e-03\n",
      "  7       0.54688       0.56250     0.5546875000000000     1.42857e-02     1.10032e-02\n",
      "  8       0.54688       0.55469     0.5507812500000000     7.04225e-03     4.75873e-03\n",
      "  9       0.54688       0.55078     0.5488281250000000     3.54610e-03     1.63273e-03\n",
      " 10       0.54688       0.54883     0.5478515625000000     1.77936e-03     6.87833e-05\n",
      " 11       0.54688       0.54785     0.5473632812500000     8.91266e-04     7.13425e-04\n",
      " 12       0.54736       0.54785     0.5476074218750000     4.46030e-04     3.22301e-04\n",
      " 13       0.54761       0.54785     0.5477294921875000     2.22916e-04     1.26754e-04\n",
      " 14       0.54773       0.54785     0.5477905273437500     1.11433e-04     2.89841e-05\n",
      " 15       0.54779       0.54785     0.5478210449218750     5.57103e-05     1.98999e-05\n",
      " 16       0.54779       0.54782     0.5478057861328125     2.78536e-05     4.54202e-06\n",
      " 17       0.54781       0.54782     0.5478134155273438     1.39272e-05     7.67896e-06\n",
      " 18       0.54781       0.54781     0.5478096008300781     6.96350e-06     1.56847e-06\n",
      " 19       0.54781       0.54781     0.5478076934814453     3.48177e-06     1.48677e-06\n",
      " 20       0.54781       0.54781     0.5478086471557617     1.74089e-06     4.08493e-08\n",
      " 21       0.54781       0.54781     0.5478081703186035     8.70445e-07     7.22962e-07\n",
      " 22       0.54781       0.54781     0.5478084087371826     4.35223e-07     3.41057e-07\n",
      " 23       0.54781       0.54781     0.5478085279464722     2.17611e-07     1.50104e-07\n",
      " 24       0.54781       0.54781     0.5478085875511169     1.08806e-07     5.46272e-08\n",
      " 25       0.54781       0.54781     0.5478086173534393     5.44028e-08     6.88892e-09\n",
      " 26       0.54781       0.54781     0.5478086322546005     2.72014e-08     1.69802e-08\n",
      " 27       0.54781       0.54781     0.5478086248040199     1.36007e-08     5.04564e-09\n",
      " 28       0.54781       0.54781     0.5478086210787296     6.80035e-09     9.21641e-10\n",
      " 29       0.54781       0.54781     0.5478086229413748     3.40017e-09     2.06200e-09\n",
      " 30       0.54781       0.54781     0.5478086220100522     1.70009e-09     5.70179e-10\n",
      " 31       0.54781       0.54781     0.5478086215443909     8.50044e-10     1.75731e-10\n",
      " 32       0.54781       0.54781     0.5478086217772216     4.25022e-10     1.97224e-10\n",
      " 33       0.54781       0.54781     0.5478086216608062     2.12511e-10     1.07463e-11\n",
      " 34       0.54781       0.54781     0.5478086216025986     1.06255e-10     8.24923e-11\n",
      " 35       0.54781       0.54781     0.5478086216317024     5.31277e-11     3.58731e-11\n",
      "\n",
      " Success! The method converged in  35  iterations to the root p =  0.5478086216317024\n"
     ]
    }
   ],
   "source": [
    "pOut = bisection_method(-1,1,f,1e-10,40)"
   ]
  },
  {
   "cell_type": "code",
   "execution_count": 23,
   "metadata": {},
   "outputs": [],
   "source": [
    "pOut2 = np.asarray(pOut)"
   ]
  },
  {
   "cell_type": "code",
   "execution_count": 30,
   "metadata": {},
   "outputs": [
    {
     "data": {
      "text/plain": [
       "array([ 5.00000000e-01,  2.50000000e-01, -1.25000000e-01, -6.25000000e-02,\n",
       "       -3.12500000e-02,  1.56250000e-02,  7.81250000e-03, -3.90625000e-03,\n",
       "       -1.95312500e-03, -9.76562500e-04, -4.88281250e-04,  2.44140625e-04,\n",
       "        1.22070312e-04,  6.10351562e-05,  3.05175781e-05, -1.52587891e-05,\n",
       "        7.62939453e-06, -3.81469727e-06, -1.90734863e-06,  9.53674316e-07,\n",
       "       -4.76837158e-07,  2.38418579e-07,  1.19209290e-07,  5.96046448e-08,\n",
       "        2.98023224e-08,  1.49011612e-08, -7.45058060e-09, -3.72529030e-09,\n",
       "        1.86264515e-09, -9.31322575e-10, -4.65661287e-10,  2.32830644e-10,\n",
       "       -1.16415322e-10, -5.82076609e-11,  2.91038305e-11])"
      ]
     },
     "execution_count": 30,
     "metadata": {},
     "output_type": "execute_result"
    }
   ],
   "source": [
    "pOut2[1:]-pOut2[0:-1]"
   ]
  },
  {
   "cell_type": "code",
   "execution_count": null,
   "metadata": {},
   "outputs": [],
   "source": []
  }
 ],
 "metadata": {
  "anaconda-cloud": {},
  "kernelspec": {
   "display_name": "Python 3",
   "language": "python",
   "name": "python3"
  },
  "language_info": {
   "codemirror_mode": {
    "name": "ipython",
    "version": 3
   },
   "file_extension": ".py",
   "mimetype": "text/x-python",
   "name": "python",
   "nbconvert_exporter": "python",
   "pygments_lexer": "ipython3",
   "version": "3.6.4"
  }
 },
 "nbformat": 4,
 "nbformat_minor": 2
}
