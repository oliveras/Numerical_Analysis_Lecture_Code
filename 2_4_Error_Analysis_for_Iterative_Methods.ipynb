{
 "cells": [
  {
   "cell_type": "markdown",
   "metadata": {},
   "source": [
    "# Section 2.4: Error Analysis for Iterative Methods"
   ]
  },
  {
   "cell_type": "markdown",
   "metadata": {},
   "source": [
    "## Comparing Linear vs. Quadratic Convergence "
   ]
  },
  {
   "cell_type": "code",
   "execution_count": 3,
   "metadata": {},
   "outputs": [],
   "source": [
    "import numpy as np\n",
    "from matplotlib import pyplot as plt\n",
    "%matplotlib inline"
   ]
  },
  {
   "cell_type": "markdown",
   "metadata": {},
   "source": [
    "## Example: Comparing Linear and Quadratic Convergence\n",
    "\n",
    "**Definition**: Assume $\\lbrace p_n\\rbrace_{n = 0}^\\infty$ converges to $p$.  If positive (finite) constants $\\alpha$ and $\\lambda$ exists such that $$\\lim_{n\\to\\infty} \\frac{\\left\\vert p_{n+1}-p\\right\\vert}{\\left\\vert p_n-p\\right\\vert^\\alpha} = \\lambda,$$ then we say that $\\lbrace p_n\\rbrace_{n = 0}^\\infty$ converges to $p$ with order $\\alpha$, and asymptotic error constant $\\lambda$.  \n",
    "\n",
    "\n",
    "The sequences $\\lbrace p_n\\rbrace$ and $\\lbrace q_n\\rbrace$ where $$p_n = 2^{-n}, \\qquad q_n = 2^{-2^n-1}$$ both converge to $0$ as $n \\to \\infty$.  However, they converge with different orders.  The following loop calculates and displays the iterates $p_n$ and $q_n$ for $n = 0, 1, \\ldots, 5$\n"
   ]
  },
  {
   "cell_type": "code",
   "execution_count": 6,
   "metadata": {},
   "outputs": [
    {
     "name": "stdout",
     "output_type": "stream",
     "text": [
      "  n  |   p_n = 2^(-n)  |  q_n = 2^(-2^(n) - 1)\n",
      "================================================\n",
      "  0  |   1.00000e+00   |    1.00000e+00\n",
      "  1  |   5.00000e-01   |    5.00000e-01\n",
      "  2  |   2.50000e-01   |    1.25000e-01\n",
      "  3  |   1.25000e-01   |    7.81250e-03\n",
      "  4  |   6.25000e-02   |    3.05176e-05\n",
      "  5  |   3.12500e-02   |    4.65661e-10\n"
     ]
    }
   ],
   "source": [
    "N = 5;\n",
    "\n",
    "print(\"  n  |   p_n = 2^(-n)  |  q_n = 2^(-2^(n) - 1)\")\n",
    "print(\"================================================\")\n",
    "\n",
    "\n",
    "for n in range(0, N+1):\n",
    "    p=(1/2.)**n\n",
    "    q = (1/2.)**(2**(n)-1)\n",
    "    print(\"%3d  |   %10.5e   |    %10.5e\" % (n,p,q))"
   ]
  },
  {
   "cell_type": "markdown",
   "metadata": {},
   "source": [
    "Now, let's visualize this convergence rate.  Since we know the explicit formulae for the sequences $\\lbrace p_n\\rbrace$ and $\\lbrace q_n\\rbrace$, we can create arrays using `numpy`'s `arange` command.  "
   ]
  },
  {
   "cell_type": "code",
   "execution_count": 15,
   "metadata": {},
   "outputs": [
    {
     "name": "stdout",
     "output_type": "stream",
     "text": [
      "[0 1 2 3 4 5]\n",
      "[ 1.       0.5      0.25     0.125    0.0625   0.03125]\n",
      "[  1.00000000e+00   5.00000000e-01   1.25000000e-01   7.81250000e-03\n",
      "   3.05175781e-05   4.65661287e-10]\n"
     ]
    }
   ],
   "source": [
    "n = np.arange(0,N+1)\n",
    "p = (1/2.)**n\n",
    "q = (1/2.)**(2**n-1)\n",
    "print(n)\n",
    "print(p)\n",
    "print(q)"
   ]
  },
  {
   "cell_type": "markdown",
   "metadata": {},
   "source": [
    "Now, let's plot the values of the two sequences as a function of $n$.  Note, both sequences go to zero.  However, from the graph, you can see that $q_n$ goes to zero faster than $p_n$.  "
   ]
  },
  {
   "cell_type": "code",
   "execution_count": 19,
   "metadata": {},
   "outputs": [
    {
     "data": {
      "image/png": "[encoded data removed]",
      "text/plain": [
       "<matplotlib.figure.Figure at 0x97bb710>"
      ]
     },
     "metadata": {},
     "output_type": "display_data"
    }
   ],
   "source": [
    "plt.plot(n,p)\n",
    "plt.plot(n,q)\n",
    "plt.grid()\n",
    "plt.legend([\"$p_n = 2^{-n}$\",\"$q_n = 2^{-2^n-1}$\"],fontsize=14)\n",
    "plt.xlabel(\"$n$\",fontsize=14)\n",
    "plt.ylabel(\"$p_n$\",fontsize=14)\n",
    "plt.show()\n"
   ]
  },
  {
   "cell_type": "markdown",
   "metadata": {},
   "source": [
    "We can see the order of convergence via a `log`-`log'' plot.  For example, if for large $n$, we know that \n",
    "$$\\frac{\\left\\vert p_{n+1}-p\\right\\vert}{\\left\\vert p_n-p\\right\\vert^\\alpha} \\approx \\lambda,$$ then, we see that $$\\ln\\left\\vert p_{n+1}-p\\right\\vert \\approx \\alpha \\ln\\left\\vert p_{n}-p\\right\\vert + \\ln(\\lambda)$$\n",
    "\n",
    "We will treat $\\ln\\left\\vert p_{n+1}-p\\right\\vert$ as our $y$ variable, and $\\ln\\left\\vert p_{n+1}-p\\right\\vert$ as our $x$ variable. The code\n",
    "```\n",
    "xp = np.log(np.abs(p[0:-2] - 0))\n",
    "```\n",
    "creates a vector that contains $p_0, p_1, \\ldots, p_{N-1}$ where $N$ is the last iterate that we calculated.  It is worth noting the notation `p[0:-2]`.  Python indexes from $0$, so that `p[0]` is the first entry in the array `p`.  The notation `p[-1]` represents the last entry in the array.  So using `p[0:-2]` returns an array containing the first entry through the second-to-last.\n",
    "\n",
    "Likewise, we can create `yp = np.log(np.abs(p[1:-1]-0))` and use `plt.plot(xp,yp)` to visualize the convergence rates.  "
   ]
  },
  {
   "cell_type": "code",
   "execution_count": 92,
   "metadata": {},
   "outputs": [
    {
     "data": {
      "image/png": "[encoded data removed]",
      "text/plain": [
       "<matplotlib.figure.Figure at 0x14d9115b208>"
      ]
     },
     "metadata": {},
     "output_type": "display_data"
    }
   ],
   "source": [
    "xp = np.log(np.abs(p[0:-2] - 0))\n",
    "yp = np.log(np.abs(p[1:-1] - 0))\n",
    "\n",
    "plt.plot(np.log(p[0:-2]),np.log(p[1:-1]))\n",
    "plt.plot(np.log(abs(pp[0:-2])),np.log(abs(pp[1:-1])))\n",
    "plt.grid()"
   ]
  },
  {
   "cell_type": "code",
   "execution_count": 93,
   "metadata": {},
   "outputs": [],
   "source": [
    "Y = np.log(pp)"
   ]
  },
  {
   "cell_type": "code",
   "execution_count": null,
   "metadata": {},
   "outputs": [],
   "source": []
  }
 ],
 "metadata": {
  "anaconda-cloud": {},
  "kernelspec": {
   "display_name": "Python [conda root]",
   "language": "python",
   "name": "conda-root-py"
  },
  "language_info": {
   "codemirror_mode": {
    "name": "ipython",
    "version": 2
   },
   "file_extension": ".py",
   "mimetype": "text/x-python",
   "name": "python",
   "nbconvert_exporter": "python",
   "pygments_lexer": "ipython2",
   "version": "2.7.14"
  }
 },
 "nbformat": 4,
 "nbformat_minor": 2
}
