{
 "cells": [
  {
   "cell_type": "code",
   "execution_count": 3,
   "metadata": {},
   "outputs": [],
   "source": [
    "import numpy as np\n",
    "from matplotlib import pyplot as plt"
   ]
  },
  {
   "cell_type": "code",
   "execution_count": 119,
   "metadata": {},
   "outputs": [
    {
     "name": "stdout",
     "output_type": "stream",
     "text": [
      "15.0\n",
      "[[ 2  0 -1]\n",
      " [-1  3  2]\n",
      " [ 0  1  3]]\n",
      "[ 3  3 -1]\n"
     ]
    }
   ],
   "source": [
    "A = np.array([[2,0,-1],[-1,3,2],[0,1,3]])\n",
    "b = np.array([3,3,-1])\n",
    "print(np.linalg.det(A))\n",
    "print(A)\n",
    "print(b)"
   ]
  },
  {
   "cell_type": "code",
   "execution_count": 173,
   "metadata": {},
   "outputs": [],
   "source": [
    "def jacobi_iteration(A,b, tol=1e-8,maxiter=100,plot=True):\n",
    "    d = np.array([np.diag(A)])\n",
    "    D = np.diag(d)\n",
    "    err = 1\n",
    "    itercount = 0;\n",
    "    x = np.zeros(np.shape(b))\n",
    "    errOut = []\n",
    "    print(np.shape(x))\n",
    "\n",
    "    while itercount<maxiter and err >= tol:\n",
    "        xO = np.copy(x);\n",
    "        x = x + (1/d.T)*(b-np.dot(A,x))\n",
    "        err = np.linalg.norm(x - xO,np.inf)\n",
    "        itercount +=1\n",
    "        errOut.append(err)\n",
    "    if plot:\n",
    "        plt.semilogy(1+np.arange(0,itercount),errOut)\n",
    "    return x\n"
   ]
  },
  {
   "cell_type": "code",
   "execution_count": 174,
   "metadata": {},
   "outputs": [
    {
     "name": "stdout",
     "output_type": "stream",
     "text": [
      "(3,)\n",
      "[[ 1.8  1.8 -0.6]\n",
      " [ 1.2  1.2 -0.4]\n",
      " [ 0.6  0.6 -0.2]]\n"
     ]
    },
    {
     "data": {
      "image/png": "[encoded data removed]",
      "text/plain": [
       "<matplotlib.figure.Figure at 0x283b3bbeb38>"
      ]
     },
     "metadata": {},
     "output_type": "display_data"
    }
   ],
   "source": [
    "x = jacobi_iteration(A,b,plot=True)\n",
    "print(np.shape(x)"
   ]
  },
  {
   "cell_type": "code",
   "execution_count": 161,
   "metadata": {},
   "outputs": [
    {
     "name": "stdout",
     "output_type": "stream",
     "text": [
      " 2.00000     4.00000e+00 \n",
      " 1.00000    -4.00000e+00 \n",
      " 1.50000     1.20000e+01 \n",
      " 1.25000    -2.00000e+01 \n",
      " 1.37500     4.40000e+01 \n",
      " 1.31250    -8.40000e+01 \n",
      " 1.34375     1.72000e+02 \n",
      " 1.32812    -3.40000e+02 \n",
      " 1.33594     6.84000e+02 \n",
      " 1.33203    -1.36400e+03 \n",
      " 1.33398     2.73200e+03 \n",
      " 1.33301    -5.46000e+03 \n",
      " 1.33350     1.09240e+04 \n",
      " 1.33325    -2.18440e+04 \n",
      " 1.33337     4.36920e+04 \n"
     ]
    }
   ],
   "source": [
    "x = np.zeros(16)\n",
    "y = x.copy()\n",
    "for j in range(0,15):\n",
    "    x[j+1]=(2-x[j]/2)\n",
    "    y[j+1]=4 - 2*y[j]\n",
    "    print(\"% 2.5f    % -10.5e \" % (x[j+1],y[j+1]))\n",
    "    "
   ]
  },
  {
   "cell_type": "code",
   "execution_count": 153,
   "metadata": {},
   "outputs": [],
   "source": [
    "def gauss_seidel(A,b, tol=1e-8,maxiter=100,plot=True):\n",
    "    m,n = np.shape(A)\n",
    "    D = np.diag(np.diag(A))\n",
    "    x = np.zeros(np.shape(b))\n",
    "    \n",
    "    Atil = A - D\n",
    "    \n",
    "    err = 1\n",
    "    itercount = 0;\n",
    "    \n",
    "    errOut = []\n",
    "\n",
    "    while itercount<maxiter and err >= tol:\n",
    "        xO = np.copy(x);    \n",
    "        for i in range(0,len(d)):\n",
    "            x[i] = (1/A[i,i])*(b[i]-np.dot(Atil[i,:],x))                 \n",
    "        \n",
    "        err = np.linalg.norm(x - xO,np.inf)\n",
    "        itercount +=1\n",
    "        errOut.append(err)\n",
    "    if plot:\n",
    "        plt.semilogy(1+np.arange(0,itercount),errOut)\n",
    "    return x"
   ]
  },
  {
   "cell_type": "code",
   "execution_count": 157,
   "metadata": {},
   "outputs": [
    {
     "name": "stdout",
     "output_type": "stream",
     "text": [
      "[ 1.  2. -1.]\n"
     ]
    }
   ],
   "source": [
    "x = gauss_seidel(A,b,plot=False)\n",
    "print(x)"
   ]
  },
  {
   "cell_type": "code",
   "execution_count": 158,
   "metadata": {},
   "outputs": [
    {
     "name": "stdout",
     "output_type": "stream",
     "text": [
      "[[ 1.8  1.8 -0.6]\n",
      " [ 1.2  1.2 -0.4]\n",
      " [ 0.6  0.6 -0.2]]\n"
     ]
    }
   ],
   "source": [
    "x = jacobi_iteration(A,b,plot=False)\n",
    "print(x)"
   ]
  },
  {
   "cell_type": "code",
   "execution_count": 86,
   "metadata": {},
   "outputs": [
    {
     "data": {
      "text/plain": [
       "array([[ 2,  0, -1],\n",
       "       [-1,  3,  2],\n",
       "       [ 0,  1,  3]])"
      ]
     },
     "execution_count": 86,
     "metadata": {},
     "output_type": "execute_result"
    }
   ],
   "source": [
    "A"
   ]
  },
  {
   "cell_type": "code",
   "execution_count": 96,
   "metadata": {},
   "outputs": [
    {
     "data": {
      "text/plain": [
       "array([[ 3],\n",
       "       [ 3],\n",
       "       [-1]])"
      ]
     },
     "execution_count": 96,
     "metadata": {},
     "output_type": "execute_result"
    }
   ],
   "source": [
    "b"
   ]
  },
  {
   "cell_type": "code",
   "execution_count": 101,
   "metadata": {},
   "outputs": [
    {
     "data": {
      "text/plain": [
       "array([ 0. ,  0. , -0.5])"
      ]
     },
     "execution_count": 101,
     "metadata": {},
     "output_type": "execute_result"
    }
   ],
   "source": [
    "b-(At[0,:]@)/A[0,0]"
   ]
  },
  {
   "cell_type": "code",
   "execution_count": 127,
   "metadata": {},
   "outputs": [],
   "source": [
    "d = np.diag(A);\n",
    "D = np.diag(d)"
   ]
  },
  {
   "cell_type": "code",
   "execution_count": 128,
   "metadata": {},
   "outputs": [
    {
     "data": {
      "text/plain": [
       "array([[ 0,  0, -1],\n",
       "       [-1,  0,  2],\n",
       "       [ 0,  1,  0]])"
      ]
     },
     "execution_count": 128,
     "metadata": {},
     "output_type": "execute_result"
    }
   ],
   "source": [
    "A - D"
   ]
  },
  {
   "cell_type": "code",
   "execution_count": 140,
   "metadata": {},
   "outputs": [
    {
     "name": "stdout",
     "output_type": "stream",
     "text": [
      "0\n",
      "break\n",
      "2\n"
     ]
    }
   ],
   "source": []
  },
  {
   "cell_type": "code",
   "execution_count": 142,
   "metadata": {},
   "outputs": [
    {
     "name": "stdout",
     "output_type": "stream",
     "text": [
      "1.5\n",
      "0.4166666666666665\n",
      "0.06944444444444464\n",
      "0.011574074074074181\n",
      "0.0019290123456789932\n",
      "0.0003215020576130545\n",
      "5.358367626895344e-05\n",
      "8.930612711566255e-06\n",
      "1.4884354517796794e-06\n",
      "2.480725753706281e-07\n",
      "4.1345429302452885e-08\n",
      "6.890904735712411e-09\n"
     ]
    },
    {
     "data": {
      "image/png": "[encoded data removed]",
      "text/plain": [
       "<matplotlib.figure.Figure at 0x283b20f4208>"
      ]
     },
     "metadata": {},
     "output_type": "display_data"
    }
   ],
   "source": [
    "x,err = gauss_seidel(A,b)"
   ]
  },
  {
   "cell_type": "code",
   "execution_count": 144,
   "metadata": {},
   "outputs": [
    {
     "data": {
      "text/plain": [
       "array([ 3.,  3., -1.])"
      ]
     },
     "execution_count": 144,
     "metadata": {},
     "output_type": "execute_result"
    }
   ],
   "source": [
    "np.matmul(A,x)"
   ]
  },
  {
   "cell_type": "code",
   "execution_count": null,
   "metadata": {},
   "outputs": [],
   "source": []
  }
 ],
 "metadata": {
  "kernelspec": {
   "display_name": "Python 3",
   "language": "python",
   "name": "python3"
  }
 },
 "nbformat": 4,
 "nbformat_minor": 2
}
