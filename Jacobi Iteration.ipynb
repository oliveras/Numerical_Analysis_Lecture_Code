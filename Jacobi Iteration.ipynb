{
 "cells": [
  {
   "cell_type": "code",
   "execution_count": 4,
   "metadata": {},
   "outputs": [],
   "source": [
    "import numpy as np\n",
    "from matplotlib import pyplot as plt"
   ]
  },
  {
   "cell_type": "code",
   "execution_count": null,
   "metadata": {},
   "outputs": [],
   "source": [
    "   "
   ]
  },
  {
   "cell_type": "code",
   "execution_count": 5,
   "metadata": {},
   "outputs": [
    {
     "name": "stdout",
     "output_type": "stream",
     "text": [
      "15.0\n",
      "[[ 2  0 -1]\n",
      " [-1  3  2]\n",
      " [ 0  1  3]]\n"
     ]
    }
   ],
   "source": [
    "A = np.array([[2,0,-1],[-1,3,2],[0,1,3]])\n",
    "b = np.array([[3],[3],[-1]])\n",
    "print(np.linalg.det(A))\n",
    "print(A)"
   ]
  },
  {
   "cell_type": "code",
   "execution_count": 13,
   "metadata": {},
   "outputs": [],
   "source": [
    "def jacobi_iteration(A,b,tol=1e-8,maxiter=100,plot=True):\n",
    "    d = np.array([np.diag(A)]).T\n",
    "    D = np.diag(d)\n",
    "    err = 1\n",
    "    itercount = 0;\n",
    "    x = np.zeros(np.shape(b))\n",
    "    errOut = []\n",
    "\n",
    "    while itercount<maxiter and err >= tol:\n",
    "        xO = x;\n",
    "        x = x + (1/d)*(b-np.dot(A,x))\n",
    "        err = np.linalg.norm(x - xO,np.inf)\n",
    "        itercount +=1\n",
    "        errOut.append(err)\n",
    "    if plot:\n",
    "        plt.semilogy(1+np.arange(0,itercount),errOut)\n",
    "\n"
   ]
  },
  {
   "cell_type": "code",
   "execution_count": 14,
   "metadata": {},
   "outputs": [
    {
     "data": {
      "image/png": "[encoded data removed]",
      "text/plain": [
       "<matplotlib.figure.Figure at 0x27559d04dd8>"
      ]
     },
     "metadata": {},
     "output_type": "display_data"
    }
   ],
   "source": [
    "jacobi_iteration(A,b,maxiter=3)"
   ]
  },
  {
   "cell_type": "code",
   "execution_count": 37,
   "metadata": {},
   "outputs": [
    {
     "name": "stdout",
     "output_type": "stream",
     "text": [
      " 2.00000     4.00000e+00 \n",
      " 1.00000    -4.00000e+00 \n",
      " 1.50000     1.20000e+01 \n",
      " 1.25000    -2.00000e+01 \n",
      " 1.37500     4.40000e+01 \n",
      " 1.31250    -8.40000e+01 \n",
      " 1.34375     1.72000e+02 \n",
      " 1.32812    -3.40000e+02 \n",
      " 1.33594     6.84000e+02 \n",
      " 1.33203    -1.36400e+03 \n",
      " 1.33398     2.73200e+03 \n",
      " 1.33301    -5.46000e+03 \n",
      " 1.33350     1.09240e+04 \n",
      " 1.33325    -2.18440e+04 \n",
      " 1.33337     4.36920e+04 \n"
     ]
    }
   ],
   "source": [
    "x = np.zeros(16)\n",
    "y = x.copy()\n",
    "for j in range(0,15):\n",
    "    x[j+1]=(2-x[j]/2)\n",
    "    y[j+1]=4 - 2*y[j]\n",
    "    print(\"% 2.5f    % -10.5e \" % (x[j+1],y[j+1]))\n",
    "    "
   ]
  },
  {
   "cell_type": "code",
   "execution_count": 103,
   "metadata": {},
   "outputs": [
    {
     "data": {
      "text/plain": [
       "array([[1.5       ],\n",
       "       [1.        ],\n",
       "       [0.33333333]])"
      ]
     },
     "execution_count": 103,
     "metadata": {},
     "output_type": "execute_result"
    }
   ],
   "source": [
    "x"
   ]
  },
  {
   "cell_type": "code",
   "execution_count": 106,
   "metadata": {},
   "outputs": [
    {
     "data": {
      "text/plain": [
       "array([[ 1.61538462],\n",
       "       [ 1.69230769],\n",
       "       [-0.23076923]])"
      ]
     },
     "execution_count": 106,
     "metadata": {},
     "output_type": "execute_result"
    }
   ],
   "source": [
    "np.dot(np.linalg.inv(A),b)"
   ]
  },
  {
   "cell_type": "code",
   "execution_count": null,
   "metadata": {},
   "outputs": [],
   "source": []
  }
 ],
 "metadata": {
  "kernelspec": {
   "display_name": "Python 3",
   "language": "python",
   "name": "python3"
  },
  "language_info": {
   "codemirror_mode": {
    "name": "ipython",
    "version": 3
   },
   "file_extension": ".py",
   "mimetype": "text/x-python",
   "name": "python",
   "nbconvert_exporter": "python",
   "pygments_lexer": "ipython3",
   "version": "3.6.4"
  }
 },
 "nbformat": 4,
 "nbformat_minor": 2
}
