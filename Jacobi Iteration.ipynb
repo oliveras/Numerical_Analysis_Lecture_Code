{
 "cells": [
  {
   "cell_type": "markdown",
   "metadata": {},
   "source": [
    "# Iterative Methods for Solving $\\mathbf{A}\\vec{\\mathbf{x}} = \\vec{\\mathbf{b}}$"
   ]
  },
  {
   "cell_type": "code",
   "execution_count": 2,
   "metadata": {},
   "outputs": [],
   "source": [
    "import numpy as np\n",
    "from matplotlib import pyplot as plt"
   ]
  },
  {
   "cell_type": "markdown",
   "metadata": {},
   "source": [
    "## Defining a test problem"
   ]
  },
  {
   "cell_type": "code",
   "execution_count": 57,
   "metadata": {},
   "outputs": [
    {
     "name": "stdout",
     "output_type": "stream",
     "text": [
      "[[3 1 1]\n",
      " [2 4 1]\n",
      " [1 3 7]]\n",
      "[ 8 13 28]\n"
     ]
    }
   ],
   "source": [
    "A = np.array([[3,1,1],[2,4,1],[1,3,7]])\n",
    "x_True = np.array([1,2,3])\n",
    "b = A@xTrue\n",
    "print(A)\n",
    "print(b)"
   ]
  },
  {
   "cell_type": "markdown",
   "metadata": {},
   "source": []
  },
  {
   "cell_type": "code",
   "execution_count": 99,
   "metadata": {},
   "outputs": [],
   "source": [
    "def jacobi_iteration(A,b, tol=1e-8,maxiter=100,plot=True):\n",
    "    d = np.array(np.diag(A))\n",
    "    D = np.diag(d)\n",
    "    err = 1\n",
    "    itercount = 0;\n",
    "    x = np.zeros(np.shape(b))\n",
    "    errOut = []\n",
    "\n",
    "    while itercount<maxiter:\n",
    "        xO = np.copy(x);\n",
    "        x = x + (1/d)*(b-np.dot(A,x))\n",
    "        err = np.linalg.norm(x - xO,np.inf)\n",
    "        errOut.append(err)\n",
    "        itercount +=1\n",
    "        if err<tol:\n",
    "            if plot:\n",
    "                plt.semilogy(np.arange(1,itercount+1),errOut,'.')\n",
    "                plt.xlabel(r\"Iteration - $k$\",fontsize=14)\n",
    "                plt.ylabel(r\"$\\|\\|\\vec{x}^{(k)}-\\vec{x}^{(k-1)}\\|\\|_\\infty$\",fontsize=14)\n",
    "                plt.title(r\"Increment in solution vs. iteration\")\n",
    "                plt.grid()\n",
    "            return x\n"
   ]
  },
  {
   "cell_type": "code",
   "execution_count": 103,
   "metadata": {},
   "outputs": [
    {
     "name": "stdout",
     "output_type": "stream",
     "text": [
      "[1. 2. 3.]\n"
     ]
    }
   ],
   "source": [
    "x = jacobi_iteration(A,b,plot=False)\n",
    "print(x)"
   ]
  },
  {
   "cell_type": "code",
   "execution_count": 44,
   "metadata": {},
   "outputs": [],
   "source": [
    "def gauss_seidel(A,b, tol=1e-8,maxiter=100,plot=True,omega =1):\n",
    "    m,n = np.shape(A)\n",
    "    D = np.diag(np.diag(A))\n",
    "    x = np.zeros(np.shape(b))\n",
    "   \n",
    "    err = 1\n",
    "    itercount = 0;\n",
    "    errOut = []\n",
    "    test = np.allclose(1-0,np.inf)\n",
    "\n",
    "    while itercount<maxiter and err>=tol:\n",
    "        xO = np.copy(x);    \n",
    "        for i in range(0,len(b)):\n",
    "            x[i] = x[i] + omega*(1/A[i,i])*(b[i]-np.dot(A[i,:],x))                 \n",
    "        \n",
    "        err = np.linalg.norm(x - xO,np.inf)\n",
    "        itercount +=1\n",
    "        errOut.append(err)\n",
    "    if plot:\n",
    "        plt.semilogy(1+np.arange(0,itercount),errOut)\n",
    "    print(itercount)\n",
    "    return x,errOut"
   ]
  },
  {
   "cell_type": "code",
   "execution_count": 56,
   "metadata": {},
   "outputs": [
    {
     "name": "stdout",
     "output_type": "stream",
     "text": [
      "11\n",
      "11\n"
     ]
    }
   ],
   "source": [
    "x,err = gauss_seidel(A,b,plot=False,omega = 1.1)\n",
    "print(len(err))"
   ]
  },
  {
   "cell_type": "code",
   "execution_count": 158,
   "metadata": {},
   "outputs": [
    {
     "name": "stdout",
     "output_type": "stream",
     "text": [
      "[[ 1.8  1.8 -0.6]\n",
      " [ 1.2  1.2 -0.4]\n",
      " [ 0.6  0.6 -0.2]]\n"
     ]
    }
   ],
   "source": [
    "x = jacobi_iteration(A,b,plot=False)\n",
    "print(x)"
   ]
  },
  {
   "cell_type": "code",
   "execution_count": 86,
   "metadata": {},
   "outputs": [
    {
     "data": {
      "text/plain": [
       "array([[ 2,  0, -1],\n",
       "       [-1,  3,  2],\n",
       "       [ 0,  1,  3]])"
      ]
     },
     "execution_count": 86,
     "metadata": {},
     "output_type": "execute_result"
    }
   ],
   "source": [
    "A"
   ]
  },
  {
   "cell_type": "code",
   "execution_count": 96,
   "metadata": {},
   "outputs": [
    {
     "data": {
      "text/plain": [
       "array([[ 3],\n",
       "       [ 3],\n",
       "       [-1]])"
      ]
     },
     "execution_count": 96,
     "metadata": {},
     "output_type": "execute_result"
    }
   ],
   "source": [
    "b"
   ]
  },
  {
   "cell_type": "code",
   "execution_count": 101,
   "metadata": {},
   "outputs": [
    {
     "data": {
      "text/plain": [
       "array([ 0. ,  0. , -0.5])"
      ]
     },
     "execution_count": 101,
     "metadata": {},
     "output_type": "execute_result"
    }
   ],
   "source": [
    "b-(At[0,:]@)/A[0,0]"
   ]
  },
  {
   "cell_type": "code",
   "execution_count": 127,
   "metadata": {},
   "outputs": [],
   "source": [
    "d = np.diag(A);\n",
    "D = np.diag(d)"
   ]
  },
  {
   "cell_type": "code",
   "execution_count": 128,
   "metadata": {},
   "outputs": [
    {
     "data": {
      "text/plain": [
       "array([[ 0,  0, -1],\n",
       "       [-1,  0,  2],\n",
       "       [ 0,  1,  0]])"
      ]
     },
     "execution_count": 128,
     "metadata": {},
     "output_type": "execute_result"
    }
   ],
   "source": [
    "A - D"
   ]
  },
  {
   "cell_type": "code",
   "execution_count": 140,
   "metadata": {},
   "outputs": [
    {
     "name": "stdout",
     "output_type": "stream",
     "text": [
      "0\n",
      "break\n",
      "2\n"
     ]
    }
   ],
   "source": []
  },
  {
   "cell_type": "code",
   "execution_count": 142,
   "metadata": {},
   "outputs": [
    {
     "name": "stdout",
     "output_type": "stream",
     "text": [
      "1.5\n",
      "0.4166666666666665\n",
      "0.06944444444444464\n",
      "0.011574074074074181\n",
      "0.0019290123456789932\n",
      "0.0003215020576130545\n",
      "5.358367626895344e-05\n",
      "8.930612711566255e-06\n",
      "1.4884354517796794e-06\n",
      "2.480725753706281e-07\n",
      "4.1345429302452885e-08\n",
      "6.890904735712411e-09\n"
     ]
    },
    {
     "data": {
      "image/png": "[encoded data removed]",
      "text/plain": [
       "<matplotlib.figure.Figure at 0x283b20f4208>"
      ]
     },
     "metadata": {},
     "output_type": "display_data"
    }
   ],
   "source": [
    "x,err = gauss_seidel(A,b)"
   ]
  },
  {
   "cell_type": "code",
   "execution_count": 144,
   "metadata": {},
   "outputs": [
    {
     "data": {
      "text/plain": [
       "array([ 3.,  3., -1.])"
      ]
     },
     "execution_count": 144,
     "metadata": {},
     "output_type": "execute_result"
    }
   ],
   "source": [
    "np.matmul(A,x)"
   ]
  },
  {
   "cell_type": "code",
   "execution_count": null,
   "metadata": {},
   "outputs": [],
   "source": []
  }
 ],
 "metadata": {
  "kernelspec": {
   "display_name": "Python 3",
   "language": "python",
   "name": "python3"
  },
  "language_info": {
   "codemirror_mode": {
    "name": "ipython",
    "version": 3
   },
   "file_extension": ".py",
   "mimetype": "text/x-python",
   "name": "python",
   "nbconvert_exporter": "python",
   "pygments_lexer": "ipython3",
   "version": "3.6.4"
  }
 },
 "nbformat": 4,
 "nbformat_minor": 2
}
