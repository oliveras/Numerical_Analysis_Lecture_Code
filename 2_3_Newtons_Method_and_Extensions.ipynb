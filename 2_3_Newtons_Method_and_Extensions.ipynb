{
 "cells": [
  {
   "cell_type": "markdown",
   "metadata": {},
   "source": [
    "# Section 2.3: Newton's Method and its Extensions"
   ]
  },
  {
   "cell_type": "code",
   "execution_count": 4,
   "metadata": {},
   "outputs": [],
   "source": [
    "import numpy as np"
   ]
  },
  {
   "cell_type": "markdown",
   "metadata": {},
   "source": [
    "## Newton's Method\n",
    "Recall that given an initial guess $x_0$, Newton's method estimates solutions to $f(x) = 0$ by creating a sequence of approximations $\\lbrace x_n\\rbrace$ where $$x_{n+1} = x_n - \\frac{f(x_n)}{f'(x_n)}$$"
   ]
  },
  {
   "cell_type": "code",
   "execution_count": 193,
   "metadata": {},
   "outputs": [],
   "source": [
    "def Newton_Method(x0,f,fp,tol,N):\n",
    "    F = f(x0)\n",
    "    Fp = fp(x0)\n",
    "    n = 1\n",
    "    print(\" n         x_n            f'(x_n)        |f(x_n)|\")\n",
    "    print(\"--------------------------------------------------------------\")\n",
    "    print(\"% 4d    % 1.5e    % 1.5e    % 10.5e\" % (n-1,x0.real, Fp.real, abs(F.real)))\n",
    "\n",
    "    while (n<=N)&(np.abs(F)>tol):\n",
    "        x1 = (Fp*x0 - F)/Fp;\n",
    "        F = f(x1);\n",
    "        Fp = fp(x1);\n",
    "        print(\"% 4d    % 1.5e    % 1.5e    % 10.5e\" % (n,x1.real, Fp.real, abs(F.real)))\n",
    "        n = n + 1\n",
    "        x0 = x1;\n",
    "        \n",
    "    if np.abs(F)<tol:\n",
    "        print(\"\\n Success! Newton's method converged in \",n,\" iterations to the root p = \",x1)\n",
    "\n",
    "    else:\n",
    "        print(\"ERROR: The method failed to converge.  Either begin with an different initial guess or increase the maximum number of iterations.\")"
   ]
  },
  {
   "cell_type": "code",
   "execution_count": 194,
   "metadata": {},
   "outputs": [
    {
     "name": "stdout",
     "output_type": "stream",
     "text": [
      " n         x_n            f'(x_n)        |f(x_n)|\n",
      "--------------------------------------------------------------\n",
      "   0     5.00000e-01    -1.63428e+00     7.73503e-02\n",
      "   1     5.47330e-01    -1.60215e+00     7.67135e-04\n",
      "   2     5.47809e-01    -1.60183e+00     7.58193e-08\n",
      "(\"\\n Success! Newton's method converged in \", 3, ' iterations to the root p = ', 0.54780857432112795)\n"
     ]
    }
   ],
   "source": [
    "Newton_Method(.5,f,fp,1e-5,100)"
   ]
  },
  {
   "cell_type": "markdown",
   "metadata": {},
   "source": [
    "## Secant Method"
   ]
  },
  {
   "cell_type": "code",
   "execution_count": 195,
   "metadata": {},
   "outputs": [],
   "source": [
    "def Secant_Method(x0,x1,f,tol,N):\n",
    "    F0 = f(x0)\n",
    "    F1 = f(x1)\n",
    "    n = 2\n",
    "    print(\"  n          x_n               |f'(x_n)|     \")\n",
    "    print(\"--------------------------------------------------------------\")\n",
    "    print(\"%3d    %10.16f     %-10.5e\" % (n-2, x0.real, np.abs(f(x0))))\n",
    "    print(\"%3d    %10.16f     %-10.5e\" % (1, x1.real, np.abs(f(x1))))\n",
    "\n",
    "    while (n<=N)&(np.abs(F1)>tol):\n",
    "        x2 = x1 - F1*(x1-x0)/(F1-F0)\n",
    "        F2 = f(x2)\n",
    "        x0 = x1\n",
    "        x1 = x2\n",
    "        F0 = F1\n",
    "        F1 = F2\n",
    "        print(\"%3.d    %10.16f     %-10.5e\" % (n, x2.real, np.abs(F2)))\n",
    "        n = n + 1\n",
    "        \n",
    "    if np.abs(f(x2))<tol:\n",
    "        print(\"\\n Success! The Secant method converged in \",n,\" iterations to the root p = \",x2)\n",
    "\n",
    "    else:\n",
    "        print(\"Error: Method failed to converge.  Try harder!\")"
   ]
  },
  {
   "cell_type": "markdown",
   "metadata": {},
   "source": [
    "## False Position Method"
   ]
  },
  {
   "cell_type": "code",
   "execution_count": 196,
   "metadata": {},
   "outputs": [],
   "source": [
    "def False_Position_Method(x0,x1,f,tol,N):\n",
    "    F0 = f(x0)\n",
    "    F1 = f(x1)\n",
    "    n = 2\n",
    "    print(\" n       x_n                  f'(x_n)     \")\n",
    "    print(\"--------------------------------------------------------------\")\n",
    "    print(\"%3d    %10.16f     %-10.5e\" % (0, x0.real, np.abs(f(x0))))\n",
    "    print(\"%3d    %10.16f     %-10.5e\" % (1, x1.real, np.abs(f(x1))))\n",
    "    \n",
    "    while (n<=N)&(np.abs(F1)>tol):\n",
    "        x2 = x1 - F1*(x1-x0)/(F1-F0)\n",
    "        F2 = f(x2);\n",
    "        if f(x2)*f(x1)<0:\n",
    "            x0 = x1\n",
    "            F0 = F1\n",
    "            x1 = x2\n",
    "            F1 = F2\n",
    "        else:\n",
    "            x0 = x0\n",
    "            F0 = F0\n",
    "            x1 = x2\n",
    "            F1 = F2\n",
    "        print(\"%3.d    %10.16f     %-10.5e\" % (n, x2.real, abs(F2)))\n",
    "        n = n + 1      \n",
    "    if np.abs(F2)<tol:\n",
    "        print(\"\\n Success! The false position method converged in \",n,\" iterations to the root p = \",x2)\n",
    "\n",
    "    else:\n",
    "        print(\"ERROR: The method failed to converge.  Either begin with an different initial guess or increase the maximum number of iterations.\")"
   ]
  },
  {
   "cell_type": "markdown",
   "metadata": {},
   "source": [
    "## Example 1: Solving $3^{-x} - x = 0$\n",
    "\n",
    "Since we can write $f(x) = 3^{-x} - x$ as $f(x) = e^{-x\\ln(3)} - x$, we can calculate the derivative $f'(x)$ as $$f'(x) = -\\ln(3)3^{-x} - 1.$$"
   ]
  },
  {
   "cell_type": "code",
   "execution_count": 197,
   "metadata": {},
   "outputs": [],
   "source": [
    "f = lambda x: 3**(-x) - x\n",
    "fp = lambda x: -3**(-x)*np.log(3) - 1"
   ]
  },
  {
   "cell_type": "code",
   "execution_count": 198,
   "metadata": {},
   "outputs": [
    {
     "name": "stdout",
     "output_type": "stream",
     "text": [
      " n         x_n            f'(x_n)        |f(x_n)|\n",
      "--------------------------------------------------------------\n",
      "   0     5.00000e-01    -1.63428e+00     7.73503e-02\n",
      "   1     5.47330e-01    -1.60215e+00     7.67135e-04\n",
      "   2     5.47809e-01    -1.60183e+00     7.58193e-08\n",
      "(\"\\n Success! Newton's method converged in \", 3, ' iterations to the root p = ', 0.54780857432112795)\n",
      "  n          x_n               |f'(x_n)|     \n",
      "--------------------------------------------------------------\n",
      "  0    0.0000000000000000     1.00000e+00\n",
      "  1    1.0000000000000000     6.66667e-01\n",
      "  2    0.6000000000000000     8.27181e-02\n",
      "  3    0.5433387440583550     7.16660e-03\n",
      "  4    0.5478564005372808     7.65329e-05\n",
      "  5    0.5478086657613424     7.06523e-08\n",
      "('\\n Success! The Secant method converged in ', 6, ' iterations to the root p = ', 0.5478086657613424)\n",
      " n       x_n                  f'(x_n)     \n",
      "--------------------------------------------------------------\n",
      "  0    0.0000000000000000     1.00000e+00\n",
      "  1    1.0000000000000000     6.66667e-01\n",
      "  2    0.6000000000000000     8.27181e-02\n",
      "  3    0.5541608445537298     1.01619e-02\n",
      "  4    0.5485861840861131     1.24532e-03\n",
      "  5    0.5479038670970179     1.52564e-04\n",
      "  6    0.5478202894748576     1.86898e-05\n",
      "  7    0.5478100510080124     2.28958e-06\n",
      "('\\n Success! The false position method converged in ', 8, ' iterations to the root p = ', 0.5478100510080124)\n"
     ]
    }
   ],
   "source": [
    "Newton_Method(.5,f,fp,1e-5,100)\n",
    "Secant_Method(0,1,f,1e-5,10)\n",
    "False_Position_Method(0,1,f,1e-5,100)"
   ]
  },
  {
   "cell_type": "code",
   "execution_count": null,
   "metadata": {},
   "outputs": [],
   "source": []
  },
  {
   "cell_type": "code",
   "execution_count": null,
   "metadata": {},
   "outputs": [],
   "source": []
  }
 ],
 "metadata": {
  "anaconda-cloud": {},
  "kernelspec": {
   "display_name": "Python [default]",
   "language": "python",
   "name": "python2"
  },
  "language_info": {
   "codemirror_mode": {
    "name": "ipython",
    "version": 2
   },
   "file_extension": ".py",
   "mimetype": "text/x-python",
   "name": "python",
   "nbconvert_exporter": "python",
   "pygments_lexer": "ipython2",
   "version": "2.7.14"
  }
 },
 "nbformat": 4,
 "nbformat_minor": 2
}
