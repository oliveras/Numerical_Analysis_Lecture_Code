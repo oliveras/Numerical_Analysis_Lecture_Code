{
 "cells": [
  {
   "cell_type": "markdown",
   "metadata": {},
   "source": [
    "# Non-Uniform Grids"
   ]
  },
  {
   "cell_type": "code",
   "execution_count": 2,
   "metadata": {},
   "outputs": [],
   "source": [
    "import numpy as np\n",
    "from matplotlib import pyplot as plt\n",
    "%matplotlib inline"
   ]
  },
  {
   "cell_type": "code",
   "execution_count": 3,
   "metadata": {},
   "outputs": [],
   "source": [
    "def L(xvals,kk,x):\n",
    "    lval = np.ones(x.size)\n",
    "    n = xvals.size\n",
    "    for ii in range(0,n):\n",
    "        if ii != kk:\n",
    "            lval *= (x-xvals[ii])/(xvals[kk]-xvals[ii])\n",
    "    return lval\n",
    "def p_Lagrange(xvals,yvals,x):\n",
    "    n = yvals.size\n",
    "    pLagrange = np.zeros(x.size)\n",
    "    for kk in range(0,n):\n",
    "        pLagrange += yvals[kk]*L(xvals,kk,x)\n",
    "    return pLagrange\n",
    "\n"
   ]
  },
  {
   "cell_type": "code",
   "execution_count": 96,
   "metadata": {},
   "outputs": [],
   "source": [
    "numPts = 16\n",
    "\n",
    "f = lambda x: 1/(1 + 16*x**2)\n",
    "\n",
    "xinterp = np.linspace(-1.,1.,1000)\n",
    "\n",
    "xvals = np.linspace(-1,1,numPts)\n",
    "yvals = f(xvals)\n",
    "\n",
    "xcheb = np.cos(np.pi*(2.*np.linspace(0.,numPts,numPts+1)+1.)/(2.*numPts+2.))\n",
    "ycheb = f(xcheb)\n",
    "\n",
    "yTaylor = np.zeros(1000)\n",
    "for n in range(0,numPts+1):\n",
    "    yTaylor += (-1)**n * (4*xinterp)**(2*n)\n",
    "\n",
    "fUniform = p_Lagrange(xvals,yvals,xinterp)\n",
    "fCheb = p_Lagrange(xcheb,ycheb,xinterp)\n",
    "\n",
    "\n"
   ]
  },
  {
   "cell_type": "code",
   "execution_count": 98,
   "metadata": {},
   "outputs": [
    {
     "data": {
      "image/png": "[encoded data removed]",
      "text/plain": [
       "<matplotlib.figure.Figure at 0x21584b4a9e8>"
      ]
     },
     "metadata": {},
     "output_type": "display_data"
    }
   ],
   "source": [
    "plt.plot(xinterp,fUniform)\n",
    "plt.plot(xinterp,yTaylor)\n",
    "plt.plot(xinterp,fCheb)\n",
    "plt.plot(xvals,yvals,'o')\n",
    "plt.ylim([-1, 5])\n",
    "plt.show()"
   ]
  },
  {
   "cell_type": "code",
   "execution_count": 35,
   "metadata": {},
   "outputs": [
    {
     "data": {
      "text/plain": [
       "200.0"
      ]
     },
     "execution_count": 35,
     "metadata": {},
     "output_type": "execute_result"
    }
   ],
   "source": [
    "1/.005"
   ]
  },
  {
   "cell_type": "code",
   "execution_count": null,
   "metadata": {},
   "outputs": [],
   "source": []
  }
 ],
 "metadata": {
  "kernelspec": {
   "display_name": "Python 3",
   "language": "python",
   "name": "python3"
  },
  "language_info": {
   "codemirror_mode": {
    "name": "ipython",
    "version": 3
   },
   "file_extension": ".py",
   "mimetype": "text/x-python",
   "name": "python",
   "nbconvert_exporter": "python",
   "pygments_lexer": "ipython3",
   "version": "3.6.4"
  }
 },
 "nbformat": 4,
 "nbformat_minor": 2
}
