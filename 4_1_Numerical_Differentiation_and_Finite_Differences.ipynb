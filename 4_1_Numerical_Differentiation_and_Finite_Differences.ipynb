{
 "cells": [
  {
   "cell_type": "markdown",
   "metadata": {},
   "source": [
    "# Section 4.1: Numerical Differentiation"
   ]
  },
  {
   "cell_type": "code",
   "execution_count": 136,
   "metadata": {},
   "outputs": [],
   "source": [
    "import numpy as np\n",
    "import matplotlib.pyplot as plt\n",
    "%matplotlib inline"
   ]
  },
  {
   "cell_type": "markdown",
   "metadata": {},
   "source": [
    "In this code, we explore finite differences numerical differentiation.  The new `numpy` routines that will be used are listed below for your reference.  \n",
    "* [NumPy vstack()](https://docs.scipy.org/doc/numpy-1.16.1/reference/generated/numpy.vstack.html)\n",
    "* [NumPy transpose()](https://docs.scipy.org/doc/numpy-1.16.1/reference/generated/numpy.transpose.html)\n",
    "* [NumPy diag()](https://docs.scipy.org/doc/numpy-1.16.1/reference/generated/numpy.diag.html)\n",
    "* [NumPy size()](https://docs.scipy.org/doc/numpy-1.16.1/reference/generated/numpy.generic.size.html)\n",
    "* [NumPy linalg.solve()](https://docs.scipy.org/doc/numpy-1.16.1/reference/generated/numpy.linalg.solve.html)"
   ]
  },
  {
   "cell_type": "markdown",
   "metadata": {},
   "source": [
    "## Creating Forward & Centered Differences"
   ]
  },
  {
   "cell_type": "markdown",
   "metadata": {},
   "source": [
    "Given $f(x)$, we would like to estimate the derivative $f'(x)$.  Two of the methods derived in class are listed below:\n",
    "* **Forward Difference, Order 1** $$\\displaystyle f'(x) = \\frac{f(x+h)-f(x)}{h} + \\mathcal{O}(h)$$\n",
    "* **Centered Difference, Order 1** $$\\displaystyle f'(x) = \\frac{f(x+h)-f(x-h)}{2h} + \\mathcal{O}(h^2)$$\n",
    "\n",
    "In the code below, we create two separate functions `forward_d` and `centered_d` that take as inputs the following:\n",
    "* The function handle `f`\n",
    "* A value `x`\n",
    "* A spacing `h`"
   ]
  },
  {
   "cell_type": "code",
   "execution_count": 157,
   "metadata": {},
   "outputs": [],
   "source": [
    "def forward_d(f,x,h):\n",
    "    return (f(x+h)-f(x))/h\n",
    "\n",
    "def centered_d(f,x,h):\n",
    "    return (f(x+h)-f(x-h))/(2*h)\n",
    "\n",
    "def complex_d(f,x,h):\n",
    "    return np.imag((f(x+1j*h)/h))"
   ]
  },
  {
   "cell_type": "markdown",
   "metadata": {},
   "source": [
    "### Testing the forward and centered differences\n",
    "\n",
    "Now, let's test our numerical method for approximating $f'(x)$ using $f(x) = x^3$.  "
   ]
  },
  {
   "cell_type": "code",
   "execution_count": 158,
   "metadata": {},
   "outputs": [],
   "source": [
    "f = lambda x: x**3             # Define the function we would like to differentiate\n",
    "fPrime = lambda x: 3*x**2      # The true derivative; used for calculating the error\n"
   ]
  },
  {
   "cell_type": "code",
   "execution_count": 159,
   "metadata": {},
   "outputs": [
    {
     "data": {
      "text/plain": [
       "3.310000000000004"
      ]
     },
     "execution_count": 159,
     "metadata": {},
     "output_type": "execute_result"
    }
   ],
   "source": [
    "forward_d(f,1,.1)"
   ]
  },
  {
   "cell_type": "code",
   "execution_count": 160,
   "metadata": {},
   "outputs": [
    {
     "data": {
      "text/plain": [
       "3.0100000000000016"
      ]
     },
     "execution_count": 160,
     "metadata": {},
     "output_type": "execute_result"
    }
   ],
   "source": [
    "centered_d(f,1,.1)"
   ]
  },
  {
   "cell_type": "code",
   "execution_count": 161,
   "metadata": {},
   "outputs": [
    {
     "data": {
      "text/plain": [
       "3"
      ]
     },
     "execution_count": 161,
     "metadata": {},
     "output_type": "execute_result"
    }
   ],
   "source": [
    "fPrime(1)"
   ]
  },
  {
   "cell_type": "markdown",
   "metadata": {},
   "source": [
    "## Investigating the Error\n",
    "Now, let's investigate how the error changes as we decrease the value of $h$.  In what follows, we create an array of $h$ values of the following form:\n",
    "```\n",
    "h = .1**np.arange(0,6)\n",
    "```\n",
    "which gives \n",
    "```\n",
    "array([1.e+00, 1.e-01, 1.e-02, 1.e-03, 1.e-04, 1.e-05])\n",
    "```\n",
    "as the output.  Then, we can calculate the error by looking at the one-norm of the difference between the approximation and the true value of the derivative.  For simplicity, we investigate the derivative at the point $x = 1$.  "
   ]
  },
  {
   "cell_type": "code",
   "execution_count": 170,
   "metadata": {
    "scrolled": true
   },
   "outputs": [],
   "source": [
    "h = .1**np.arange(0,6)  # alternatively, you could use h = np.logspace(-5,0,6)\n",
    "x = 1\n",
    "\n",
    "errFD = np.abs(forward_d(f,x,h)-fPrime(x))\n",
    "errCD = np.abs(centered_d(f,x,h)-fPrime(x))                   \n",
    "errID = np.abs(complex_d(f,x,h)-fPrime(x))\n",
    "err = np.vstack([errFD,errCD,errID]).T\n"
   ]
  },
  {
   "cell_type": "markdown",
   "metadata": {},
   "source": [
    "When we plot the errors, we should see that on a `loglog` plot, the slope of the error for the forward-difference, order 1 method should be 1, and the slope of the error for the centered-difference, order 2 method should be 2.  "
   ]
  },
  {
   "cell_type": "code",
   "execution_count": 171,
   "metadata": {},
   "outputs": [
    {
     "data": {
      "image/png": "[encoded data removed]",
      "text/plain": [
       "<matplotlib.figure.Figure at 0x26e7dba25f8>"
      ]
     },
     "metadata": {},
     "output_type": "display_data"
    }
   ],
   "source": [
    "plt.loglog(h,err)\n",
    "plt.legend([\"Forward Difference\",\"Centered Difference\"])\n",
    "plt.grid()\n",
    "plt.title(r'Log-Log Plot of $\\left\\vert f^\\prime(1) - \\tilde{f}^\\prime(1)\\right\\vert$ for various $h$',fontsize=18)\n",
    "plt.xlabel(r'$\\log(h)$',fontsize=14)\n",
    "plt.ylabel(r'$\\log\\left\\vert f^\\prime(1) - \\tilde{f}^\\prime(1)\\right\\vert$',fontsize=14)\n",
    "plt.show()"
   ]
  },
  {
   "cell_type": "code",
   "execution_count": 172,
   "metadata": {},
   "outputs": [
    {
     "data": {
      "text/plain": [
       "2.99"
      ]
     },
     "execution_count": 172,
     "metadata": {},
     "output_type": "execute_result"
    }
   ],
   "source": [
    "np.imag(f(1 + 1j*.1)/.1)"
   ]
  },
  {
   "cell_type": "code",
   "execution_count": 148,
   "metadata": {},
   "outputs": [
    {
     "data": {
      "text/plain": [
       "3.0100000000000016"
      ]
     },
     "execution_count": 148,
     "metadata": {},
     "output_type": "execute_result"
    }
   ],
   "source": [
    "centered_d(f,1,.1)"
   ]
  },
  {
   "cell_type": "code",
   "execution_count": null,
   "metadata": {},
   "outputs": [],
   "source": []
  }
 ],
 "metadata": {
  "kernelspec": {
   "display_name": "Python 3",
   "language": "python",
   "name": "python3"
  },
  "language_info": {
   "codemirror_mode": {
    "name": "ipython",
    "version": 3
   },
   "file_extension": ".py",
   "mimetype": "text/x-python",
   "name": "python",
   "nbconvert_exporter": "python",
   "pygments_lexer": "ipython3",
   "version": "3.6.4"
  }
 },
 "nbformat": 4,
 "nbformat_minor": 2
}
